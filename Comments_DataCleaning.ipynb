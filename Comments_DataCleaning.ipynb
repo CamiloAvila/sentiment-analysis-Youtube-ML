{
  "nbformat": 4,
  "nbformat_minor": 0,
  "metadata": {
    "colab": {
      "name": "YoutubeProyect.ipynb",
      "provenance": [],
      "collapsed_sections": []
    },
    "kernelspec": {
      "name": "python3",
      "display_name": "Python 3"
    }
  },
  "cells": [
    {
      "cell_type": "code",
      "metadata": {
        "id": "ydMWMdfOyuN6",
        "colab_type": "code",
        "colab": {}
      },
      "source": [
        "import pandas as pd\n",
        "import numpy as np\n",
        "import nltk\n",
        "import re"
      ],
      "execution_count": 0,
      "outputs": []
    },
    {
      "cell_type": "code",
      "metadata": {
        "id": "S0iAUSn3KX4v",
        "colab_type": "code",
        "colab": {}
      },
      "source": [
        "#Upload of the dataset that was stored in a .CSV\n",
        "idDoc = \"1f1FlZ9vcFtOo4pgto5SSyOw_W1V_Q-yy\"\n",
        "GdriveUrl = \"https://drive.google.com/uc?id={}&export=download&authuser=0\".format(idDoc)\n",
        "dfYoutube = pd.read_csv(GdriveUrl,sep=\";\")"
      ],
      "execution_count": 0,
      "outputs": []
    },
    {
      "cell_type": "code",
      "metadata": {
        "id": "IP1TVDkM2y1E",
        "colab_type": "code",
        "outputId": "4fb5c6fa-40f6-459e-ef9f-ec63aba119fd",
        "colab": {
          "base_uri": "https://localhost:8080/",
          "height": 54
        }
      },
      "source": [
        "dfYoutube.loc[5]['snippet/topLevelComment/snippet/textDisplay']"
      ],
      "execution_count": 0,
      "outputs": [
        {
          "output_type": "execute_result",
          "data": {
            "text/plain": [
              "'Hay una sálida a ese dolor y su nombre es Cristo Jesús.\\r\\nEl dijo en su palabra: en el mundo tendres tribulación pero, en mi tendres paz.\\r\\nFilipenses 4:7\\xa0Reina-Valera \\r\\n7\\xa0Y la paz de Dios, que sobrepasa todo entendimiento, guardará vuestros corazones y vuestros pensamientos en Cristo Jesús.'"
            ]
          },
          "metadata": {
            "tags": []
          },
          "execution_count": 3
        }
      ]
    },
    {
      "cell_type": "code",
      "metadata": {
        "id": "iD7yMSQi9YkS",
        "colab_type": "code",
        "colab": {}
      },
      "source": [
        "#Assign the comments of the dataframe (available indfYoutube) to comments \n",
        "#Only added the text display comments\n",
        "comments = dfYoutube['snippet/topLevelComment/snippet/textDisplay']"
      ],
      "execution_count": 0,
      "outputs": []
    },
    {
      "cell_type": "code",
      "metadata": {
        "id": "IQBW5N38bmmw",
        "colab_type": "code",
        "outputId": "fb8882f5-761c-424a-fd97-21c4c8bdc6cd",
        "colab": {
          "base_uri": "https://localhost:8080/",
          "height": 1000
        }
      },
      "source": [
        "#Data cleaning\n",
        "\n",
        "#Opción de hacer split: comments = comments.apply(lambda comments: comments.split())\n",
        "\n",
        "# hashtags = re.findall(r'#(\\w+)', str1, re.UNICODE)\n",
        "comments = comments.apply(lambda comments: re.sub(r'[^ \\nA-Za-z0-9À-ÖØ-öø-ÿЀ-ӿ/]+',\" \",comments.lower()))\n",
        "comments"
      ],
      "execution_count": 0,
      "outputs": [
        {
          "output_type": "execute_result",
          "data": {
            "text/plain": [
              "0                                   mad word gears of war\n",
              "1       estoy muy triste yo mí hijo también se quiere ...\n",
              "2       https //www youtube com/watch v u4pix0ki6vu t 90s\n",
              "3                             si existe es real todo esto\n",
              "4       publicar que estas bien sad y escuchar xxxtent...\n",
              "5       hay una sálida a ese dolor y su nombre es cris...\n",
              "6       audios de motivación pueden acompanar los pens...\n",
              "7       audios de motivación pueden acompanar los pens...\n",
              "8       no solo la depresión es el motivo del suicidio...\n",
              "9       yo me quiero suicidar pero ya una vez falle  m...\n",
              "10      por que la familia en el momento en que te int...\n",
              "11      acude con dios a la iglesia y con un especiali...\n",
              "12      para que llevan especialistas sí los conductor...\n",
              "13      hola mi nombre es helios tengo 15 años curso e...\n",
              "14      todos que rechazan a alguien y lo hacen sentir...\n",
              "15      yo me quiero morir por que siento que a nadie ...\n",
              "16      sin dudas que se debe prestar mucha atención a...\n",
              "17      muchas personas se quitan la vida no porque ya...\n",
              "18      yo intente suicidarme en diciembre de 2018 por...\n",
              "19      la crueldad en la sociedad y la calumnia   mi ...\n",
              "20      mi orgullo por no perder este juego que llamam...\n",
              "21      no tengo ilusión a la vida   mi familia nunca ...\n",
              "22       des balance químico   enfermedad crónica   de...\n",
              "23      suicidarse en compañia es saludable solo dire ...\n",
              "24      seis profesionales demostrando su incapacidad ...\n",
              "25      yo ya intente 1 vez  \\n \\nme tome 5 cajas de p...\n",
              "26                          estoy pasando por eso ahora  \n",
              "27      no sé yo me tomé una caja de antidepresivos y ...\n",
              "28      tanto dicen que todos tenemos familia y amigos...\n",
              "29      cuando trato de hablar sobre cómo me siento  n...\n",
              "                              ...                        \n",
              "4639    gracias por recordarme que no estoy sola en es...\n",
              "4640     noestássolo \\nconozco a gente que han sufrido...\n",
              "4641    a hora me doy cuenta que tenía un poco de depr...\n",
              "4642    yo diría que muchos lo confunden con tristeza ...\n",
              "4643    solución  comer helado  preferencia chocolate ...\n",
              "4644    entendí bien que es depresión \\n \\npero podría...\n",
              "4645    tener ansiedad y depresión a la vez es una pes...\n",
              "4646    yo tengo depresion pero d apoko c me va   3 al...\n",
              "4647    conozco a una persona  mi ex  lpm se intentó s...\n",
              "4648      amo los videos de este chico o chica o ambos  v\n",
              "4649                             hablen sobre la ansiedad\n",
              "4650    se podrían hablar de más trastornos   es muy i...\n",
              "4651     buen video  aunque 50  explicado como siempre  v\n",
              "4652    me da coraje que piensen que los que se quiere...\n",
              "4653    ohh  really hate hate myself \\ncreo que tengo ...\n",
              "4654                                 amo a tik y a tak  3\n",
              "4655    yo me siento con depresion pero   no quiero ir...\n",
              "4656          loke si casi lloraste con el no estas solo \n",
              "4657                      draw my life de tik tak draw  v\n",
              "4658                                  yo tengo deprecion \n",
              "4659    yo tenía depresión me lo diagnosticaron y me c...\n",
              "4660    creo que hicieron este video en honor a cheste...\n",
              "4661     yo aveses tengo depresion   xdxd  \\n aveses    v\n",
              "4662    estaba absorbiendo información  y de repente  ...\n",
              "4663    la medicina solo lo empeora   hay un tiempo do...\n",
              "4664    yo casi estoy triste like para  \\nque yo sea f...\n",
              "4665                           like si vives en el mundo \n",
              "4666               like si nunca quieres tener deprecion \n",
              "4667    estis dias estube deprimida y cuando vi este v...\n",
              "4668    yo tuve que salir solo de depresión tuve tende...\n",
              "Name: snippet/topLevelComment/snippet/textDisplay, Length: 4669, dtype: object"
            ]
          },
          "metadata": {
            "tags": []
          },
          "execution_count": 8
        }
      ]
    }
  ]
}